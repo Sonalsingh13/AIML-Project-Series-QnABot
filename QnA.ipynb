{
 "cells": [
  {
   "cell_type": "code",
   "execution_count": 1,
   "id": "3172ded6-44a3-40e7-8727-d6da409600b9",
   "metadata": {},
   "outputs": [
    {
     "name": "stdout",
     "output_type": "stream",
     "text": [
      "Welcome to the College Admission Q&A Bot!\n"
     ]
    },
    {
     "name": "stdin",
     "output_type": "stream",
     "text": [
      "You:  what are the admission procedures\n"
     ]
    },
    {
     "name": "stdout",
     "output_type": "stream",
     "text": [
      "Q&A Bot: The admission procedure involves submitting an online application, followed by an interview if shortlisted.\n"
     ]
    },
    {
     "name": "stdin",
     "output_type": "stream",
     "text": [
      "You:  What are the requirements?\n"
     ]
    },
    {
     "name": "stdout",
     "output_type": "stream",
     "text": [
      "Q&A Bot: The requirements include a completed application form, transcripts, recommendation letters, and a personal statement.\n"
     ]
    },
    {
     "name": "stdin",
     "output_type": "stream",
     "text": [
      "You:  What are the deadlines?\n"
     ]
    },
    {
     "name": "stdout",
     "output_type": "stream",
     "text": [
      "Q&A Bot: The application deadline for the fall semester is June 1st, and for the spring semester is November 1st.\n"
     ]
    },
    {
     "name": "stdin",
     "output_type": "stream",
     "text": [
      "You:  bye\n"
     ]
    },
    {
     "name": "stdout",
     "output_type": "stream",
     "text": [
      "Goodbye! Best of luck with your admissions!\n"
     ]
    }
   ],
   "source": [
    "class CollegeAdmissionQnABot:\n",
    "    def __init__(self):\n",
    "        self.admission_info = {\n",
    "            \"procedures\": \"The admission procedure involves submitting an online application, followed by an interview if shortlisted.\",\n",
    "            \"requirements\": \"The requirements include a completed application form, transcripts, recommendation letters, and a personal statement.\",\n",
    "            \"deadlines\": \"The application deadline for the fall semester is June 1st, and for the spring semester is November 1st.\"\n",
    "        }\n",
    "        self.error_message = \"I'm sorry, I can't answer that question. Please ask about admission procedures, requirements, or deadlines.\"\n",
    "        self.user_context = {}\n",
    "\n",
    "    def respond_to_question(self, user_input):\n",
    "        lower_input = user_input.lower()\n",
    "        if \"procedure\" in lower_input:\n",
    "            return self.admission_info[\"procedures\"]\n",
    "        elif \"requirement\" in lower_input:\n",
    "            return self.admission_info[\"requirements\"]\n",
    "        elif \"deadline\" in lower_input:\n",
    "            return self.admission_info[\"deadlines\"]\n",
    "        else:\n",
    "            return self.error_message\n",
    "\n",
    "    def handle_conversation(self):\n",
    "        print(\"Welcome to the College Admission Q&A Bot!\")\n",
    "        while True:\n",
    "            user_input = input(\"You: \")\n",
    "            if user_input.lower() in [\"bye\", \"exit\", \"quit\"]:\n",
    "                print(\"Goodbye! Best of luck with your admissions!\")\n",
    "                break\n",
    "            else:\n",
    "                response = self.respond_to_question(user_input)\n",
    "                print(f\"Q&A Bot: {response}\")\n",
    "\n",
    "# Main execution\n",
    "if __name__ == \"__main__\":\n",
    "    bot = CollegeAdmissionQnABot()\n",
    "    bot.handle_conversation()\n"
   ]
  },
  {
   "cell_type": "code",
   "execution_count": null,
   "id": "4b043dfd-6a57-4c53-be25-fe7c6bd28e09",
   "metadata": {},
   "outputs": [],
   "source": []
  }
 ],
 "metadata": {
  "kernelspec": {
   "display_name": "Python 3 (ipykernel)",
   "language": "python",
   "name": "python3"
  },
  "language_info": {
   "codemirror_mode": {
    "name": "ipython",
    "version": 3
   },
   "file_extension": ".py",
   "mimetype": "text/x-python",
   "name": "python",
   "nbconvert_exporter": "python",
   "pygments_lexer": "ipython3",
   "version": "3.11.7"
  }
 },
 "nbformat": 4,
 "nbformat_minor": 5
}
